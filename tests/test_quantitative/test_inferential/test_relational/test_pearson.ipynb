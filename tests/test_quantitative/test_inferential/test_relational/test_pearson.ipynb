{
 "cells": [
  {
   "attachments": {},
   "cell_type": "markdown",
   "metadata": {},
   "source": [
    "# Pearson Correlation"
   ]
  },
  {
   "cell_type": "code",
   "execution_count": 7,
   "metadata": {},
   "outputs": [],
   "source": [
    "from d8analysis.quantitative.inferential.relational.pearson import PearsonCorrelationTest\n",
    "from d8analysis.service.io import IOService\n",
    "from scipy import stats\n"
   ]
  },
  {
   "cell_type": "code",
   "execution_count": 2,
   "metadata": {},
   "outputs": [],
   "source": [
    "from d8analysis.container import D8AnalysisContainer\n",
    "container = D8AnalysisContainer()\n",
    "container.init_resources()\n",
    "container.wire(packages=[\"d8analysis.quantitative.inferential\", \"d8analysis.visual.seaborn\"])"
   ]
  },
  {
   "cell_type": "code",
   "execution_count": 3,
   "metadata": {},
   "outputs": [],
   "source": [
    "FP = \"data/Credit Score Classification Dataset.csv\""
   ]
  },
  {
   "cell_type": "code",
   "execution_count": 8,
   "metadata": {},
   "outputs": [
    {
     "data": {
      "text/plain": [
       "'1.8.1'"
      ]
     },
     "execution_count": 8,
     "metadata": {},
     "output_type": "execute_result"
    }
   ],
   "source": [
    "df = IOService.read(FP, index_col=None)\n",
    "a = 'Age'\n",
    "b = \"Income\""
   ]
  },
  {
   "cell_type": "code",
   "execution_count": 5,
   "metadata": {},
   "outputs": [
    {
     "ename": "TypeError",
     "evalue": "pearsonr() got an unexpected keyword argument 'alternative'",
     "output_type": "error",
     "traceback": [
      "\u001b[0;31m---------------------------------------------------------------------------\u001b[0m",
      "\u001b[0;31mTypeError\u001b[0m                                 Traceback (most recent call last)",
      "Cell \u001b[0;32mIn[5], line 2\u001b[0m\n\u001b[1;32m      1\u001b[0m test \u001b[39m=\u001b[39m PearsonCorrelationTest(data\u001b[39m=\u001b[39mdf, a\u001b[39m=\u001b[39ma, b\u001b[39m=\u001b[39mb)\n\u001b[0;32m----> 2\u001b[0m test\u001b[39m.\u001b[39;49mrun()\n\u001b[1;32m      3\u001b[0m \u001b[39mprint\u001b[39m(test\u001b[39m.\u001b[39mresult)\n\u001b[1;32m      4\u001b[0m test\u001b[39m.\u001b[39mresult\u001b[39m.\u001b[39mplot()\n",
      "File \u001b[0;32m~/projects/d8analysis/d8analysis/quantitative/inferential/relational/pearson.py:235\u001b[0m, in \u001b[0;36mPearsonCorrelationTest.run\u001b[0;34m(self)\u001b[0m\n\u001b[1;32m    232\u001b[0m \u001b[39mdef\u001b[39;00m \u001b[39mrun\u001b[39m(\u001b[39mself\u001b[39m) \u001b[39m-\u001b[39m\u001b[39m>\u001b[39m \u001b[39mNone\u001b[39;00m:\n\u001b[1;32m    233\u001b[0m \u001b[39m    \u001b[39m\u001b[39m\"\"\"Performs the statistical test and creates a result object.\"\"\"\u001b[39;00m\n\u001b[0;32m--> 235\u001b[0m     r, pvalue \u001b[39m=\u001b[39m stats\u001b[39m.\u001b[39;49mpearsonr(\n\u001b[1;32m    236\u001b[0m         x\u001b[39m=\u001b[39;49m\u001b[39mself\u001b[39;49m\u001b[39m.\u001b[39;49m_data[\u001b[39mself\u001b[39;49m\u001b[39m.\u001b[39;49m_a]\u001b[39m.\u001b[39;49mvalues, y\u001b[39m=\u001b[39;49m\u001b[39mself\u001b[39;49m\u001b[39m.\u001b[39;49m_data[\u001b[39mself\u001b[39;49m\u001b[39m.\u001b[39;49m_b]\u001b[39m.\u001b[39;49mvalues, alternative\u001b[39m=\u001b[39;49m\u001b[39m\"\u001b[39;49m\u001b[39mtwo-sided\u001b[39;49m\u001b[39m\"\u001b[39;49m\n\u001b[1;32m    237\u001b[0m     )\n\u001b[1;32m    239\u001b[0m     dof \u001b[39m=\u001b[39m \u001b[39mlen\u001b[39m(\u001b[39mself\u001b[39m\u001b[39m.\u001b[39m_data) \u001b[39m-\u001b[39m \u001b[39m2\u001b[39m\n\u001b[1;32m    241\u001b[0m     result \u001b[39m=\u001b[39m \u001b[39mself\u001b[39m\u001b[39m.\u001b[39m_report_results(r\u001b[39m=\u001b[39mr, pvalue\u001b[39m=\u001b[39mpvalue, dof\u001b[39m=\u001b[39mdof)\n",
      "\u001b[0;31mTypeError\u001b[0m: pearsonr() got an unexpected keyword argument 'alternative'"
     ]
    }
   ],
   "source": [
    "\n",
    "test = PearsonCorrelationTest(data=df, a=a, b=b)\n",
    "test.run()\n",
    "print(test.result)\n",
    "test.result.plot()\n"
   ]
  },
  {
   "cell_type": "code",
   "execution_count": null,
   "metadata": {},
   "outputs": [],
   "source": [
    "\n",
    "test = PearsonCorrelationTest(data=df, a=a, b=b)\n",
    "test.run()\n",
    "print(test.result)\n",
    "test.result.plot_statistic()\n",
    "test.result.plot_data()"
   ]
  }
 ],
 "metadata": {
  "kernelspec": {
   "display_name": "d8analysis",
   "language": "python",
   "name": "python3"
  },
  "language_info": {
   "codemirror_mode": {
    "name": "ipython",
    "version": 3
   },
   "file_extension": ".py",
   "mimetype": "text/x-python",
   "name": "python",
   "nbconvert_exporter": "python",
   "pygments_lexer": "ipython3",
   "version": "3.10.12"
  },
  "orig_nbformat": 4
 },
 "nbformat": 4,
 "nbformat_minor": 2
}
