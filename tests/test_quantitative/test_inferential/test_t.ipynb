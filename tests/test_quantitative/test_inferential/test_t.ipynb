{
 "cells": [
  {
   "attachments": {},
   "cell_type": "markdown",
   "metadata": {},
   "source": [
    "# Independent Sample t-Test\n",
    "## Two Sample"
   ]
  },
  {
   "cell_type": "code",
   "execution_count": 1,
   "metadata": {},
   "outputs": [],
   "source": [
    "from d8analysis.quantitative.inferential.centrality.ttest import TTest\n",
    "from d8analysis.service.io import IOService\n",
    "from scipy import stats\n"
   ]
  },
  {
   "cell_type": "code",
   "execution_count": 2,
   "metadata": {},
   "outputs": [
    {
     "ename": "ImportError",
     "evalue": "cannot import name 'Plot' from 'd8analysis.visual.base' (/home/john/projects/d8analysis/d8analysis/visual/base.py)",
     "output_type": "error",
     "traceback": [
      "\u001b[0;31m---------------------------------------------------------------------------\u001b[0m",
      "\u001b[0;31mImportError\u001b[0m                               Traceback (most recent call last)",
      "Cell \u001b[0;32mIn[2], line 4\u001b[0m\n\u001b[1;32m      2\u001b[0m container \u001b[39m=\u001b[39m D8AnalysisContainer()\n\u001b[1;32m      3\u001b[0m container\u001b[39m.\u001b[39minit_resources()\n\u001b[0;32m----> 4\u001b[0m container\u001b[39m.\u001b[39;49mwire(packages\u001b[39m=\u001b[39;49m[\u001b[39m\"\u001b[39;49m\u001b[39md8analysis.quantitative\u001b[39;49m\u001b[39m\"\u001b[39;49m, \u001b[39m\"\u001b[39;49m\u001b[39md8analysis.visual\u001b[39;49m\u001b[39m\"\u001b[39;49m])\n",
      "File \u001b[0;32msrc/dependency_injector/containers.pyx:317\u001b[0m, in \u001b[0;36mdependency_injector.containers.DynamicContainer.wire\u001b[0;34m()\u001b[0m\n",
      "File \u001b[0;32m~/anaconda3/envs/d8analysis/lib/python3.10/site-packages/dependency_injector/wiring.py:398\u001b[0m, in \u001b[0;36mwire\u001b[0;34m(container, modules, packages)\u001b[0m\n\u001b[1;32m    396\u001b[0m \u001b[39mif\u001b[39;00m packages:\n\u001b[1;32m    397\u001b[0m     \u001b[39mfor\u001b[39;00m package \u001b[39min\u001b[39;00m packages:\n\u001b[0;32m--> 398\u001b[0m         modules\u001b[39m.\u001b[39mextend(_fetch_modules(package))\n\u001b[1;32m    400\u001b[0m providers_map \u001b[39m=\u001b[39m ProvidersMap(container)\n\u001b[1;32m    402\u001b[0m \u001b[39mfor\u001b[39;00m module \u001b[39min\u001b[39;00m modules:\n",
      "File \u001b[0;32m~/anaconda3/envs/d8analysis/lib/python3.10/site-packages/dependency_injector/wiring.py:653\u001b[0m, in \u001b[0;36m_fetch_modules\u001b[0;34m(package)\u001b[0m\n\u001b[1;32m    648\u001b[0m     \u001b[39mreturn\u001b[39;00m modules\n\u001b[1;32m    649\u001b[0m \u001b[39mfor\u001b[39;00m module_info \u001b[39min\u001b[39;00m pkgutil\u001b[39m.\u001b[39mwalk_packages(\n\u001b[1;32m    650\u001b[0m         path\u001b[39m=\u001b[39mpackage\u001b[39m.\u001b[39m__path__,\n\u001b[1;32m    651\u001b[0m         prefix\u001b[39m=\u001b[39mpackage\u001b[39m.\u001b[39m\u001b[39m__name__\u001b[39m \u001b[39m+\u001b[39m \u001b[39m\"\u001b[39m\u001b[39m.\u001b[39m\u001b[39m\"\u001b[39m,\n\u001b[1;32m    652\u001b[0m ):\n\u001b[0;32m--> 653\u001b[0m     module \u001b[39m=\u001b[39m importlib\u001b[39m.\u001b[39;49mimport_module(module_info\u001b[39m.\u001b[39;49mname)\n\u001b[1;32m    654\u001b[0m     modules\u001b[39m.\u001b[39mappend(module)\n\u001b[1;32m    655\u001b[0m \u001b[39mreturn\u001b[39;00m modules\n",
      "File \u001b[0;32m~/anaconda3/envs/d8analysis/lib/python3.10/importlib/__init__.py:126\u001b[0m, in \u001b[0;36mimport_module\u001b[0;34m(name, package)\u001b[0m\n\u001b[1;32m    124\u001b[0m             \u001b[39mbreak\u001b[39;00m\n\u001b[1;32m    125\u001b[0m         level \u001b[39m+\u001b[39m\u001b[39m=\u001b[39m \u001b[39m1\u001b[39m\n\u001b[0;32m--> 126\u001b[0m \u001b[39mreturn\u001b[39;00m _bootstrap\u001b[39m.\u001b[39;49m_gcd_import(name[level:], package, level)\n",
      "File \u001b[0;32m<frozen importlib._bootstrap>:1050\u001b[0m, in \u001b[0;36m_gcd_import\u001b[0;34m(name, package, level)\u001b[0m\n",
      "File \u001b[0;32m<frozen importlib._bootstrap>:1027\u001b[0m, in \u001b[0;36m_find_and_load\u001b[0;34m(name, import_)\u001b[0m\n",
      "File \u001b[0;32m<frozen importlib._bootstrap>:1006\u001b[0m, in \u001b[0;36m_find_and_load_unlocked\u001b[0;34m(name, import_)\u001b[0m\n",
      "File \u001b[0;32m<frozen importlib._bootstrap>:688\u001b[0m, in \u001b[0;36m_load_unlocked\u001b[0;34m(spec)\u001b[0m\n",
      "File \u001b[0;32m<frozen importlib._bootstrap_external>:883\u001b[0m, in \u001b[0;36mexec_module\u001b[0;34m(self, module)\u001b[0m\n",
      "File \u001b[0;32m<frozen importlib._bootstrap>:241\u001b[0m, in \u001b[0;36m_call_with_frames_removed\u001b[0;34m(f, *args, **kwds)\u001b[0m\n",
      "File \u001b[0;32m~/projects/d8analysis/d8analysis/visual/association.py:25\u001b[0m\n\u001b[1;32m     22\u001b[0m \u001b[39mimport\u001b[39;00m \u001b[39mseaborn\u001b[39;00m \u001b[39mas\u001b[39;00m \u001b[39msns\u001b[39;00m\n\u001b[1;32m     23\u001b[0m \u001b[39mimport\u001b[39;00m \u001b[39mmatplotlib\u001b[39;00m\u001b[39m.\u001b[39;00m\u001b[39mpyplot\u001b[39;00m \u001b[39mas\u001b[39;00m \u001b[39mplt\u001b[39;00m\n\u001b[0;32m---> 25\u001b[0m \u001b[39mfrom\u001b[39;00m \u001b[39md8analysis\u001b[39;00m\u001b[39m.\u001b[39;00m\u001b[39mvisual\u001b[39;00m\u001b[39m.\u001b[39;00m\u001b[39mbase\u001b[39;00m \u001b[39mimport\u001b[39;00m Plot, Figure\n\u001b[1;32m     26\u001b[0m \u001b[39mfrom\u001b[39;00m \u001b[39md8analysis\u001b[39;00m\u001b[39m.\u001b[39;00m\u001b[39mvisual\u001b[39;00m\u001b[39m.\u001b[39;00m\u001b[39mseaborn\u001b[39;00m\u001b[39m.\u001b[39;00m\u001b[39mconfig\u001b[39;00m \u001b[39mimport\u001b[39;00m SeabornCanvas\n\u001b[1;32m     28\u001b[0m \u001b[39m# ------------------------------------------------------------------------------------------------ #\u001b[39;00m\n\u001b[1;32m     29\u001b[0m \u001b[39m#                                        SCATTERPLOT                                               #\u001b[39;00m\n\u001b[1;32m     30\u001b[0m \u001b[39m# ------------------------------------------------------------------------------------------------ #\u001b[39;00m\n",
      "\u001b[0;31mImportError\u001b[0m: cannot import name 'Plot' from 'd8analysis.visual.base' (/home/john/projects/d8analysis/d8analysis/visual/base.py)"
     ]
    }
   ],
   "source": [
    "from d8analysis.container import D8AnalysisContainer\n",
    "container = D8AnalysisContainer()\n",
    "container.init_resources()\n",
    "container.wire(packages=[\"d8analysis.quantitative\", \"d8analysis.visual\"])"
   ]
  },
  {
   "cell_type": "code",
   "execution_count": null,
   "metadata": {},
   "outputs": [],
   "source": [
    "FP = \"data/Credit Score Classification Dataset.csv\"\n",
    "STATISTICS = ['ks', 'ad', 'cvm']"
   ]
  },
  {
   "cell_type": "code",
   "execution_count": null,
   "metadata": {},
   "outputs": [],
   "source": [
    "df = IOService.read(FP, index_col=None)\n",
    "female = df.loc[df['Gender'] == 'Female']['Age']\n",
    "male = df.loc[df['Gender'] == 'Male']['Age']\n"
   ]
  },
  {
   "cell_type": "code",
   "execution_count": null,
   "metadata": {},
   "outputs": [],
   "source": [
    "\n",
    "test = TTest(a=female, b=male)\n",
    "test.run()\n",
    "print(test.result)\n",
    "test.result.plot()\n"
   ]
  }
 ],
 "metadata": {
  "kernelspec": {
   "display_name": "d8analysis",
   "language": "python",
   "name": "python3"
  },
  "language_info": {
   "codemirror_mode": {
    "name": "ipython",
    "version": 3
   },
   "file_extension": ".py",
   "mimetype": "text/x-python",
   "name": "python",
   "nbconvert_exporter": "python",
   "pygments_lexer": "ipython3",
   "version": "3.10.12"
  },
  "orig_nbformat": 4
 },
 "nbformat": 4,
 "nbformat_minor": 2
}
