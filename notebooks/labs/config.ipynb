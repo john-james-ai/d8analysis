{
 "cells": [
  {
   "attachments": {},
   "cell_type": "markdown",
   "metadata": {},
   "source": [
    "# Config Lab"
   ]
  },
  {
   "cell_type": "code",
   "execution_count": 1,
   "metadata": {},
   "outputs": [],
   "source": [
    "from d8analysis.service.io import IOService"
   ]
  },
  {
   "cell_type": "code",
   "execution_count": 3,
   "metadata": {},
   "outputs": [],
   "source": [
    "fp1 = \"tests/data/service/config/logging.yml\"\n",
    "fp2 = \"tests/data/service/config/logging2.yml\"\n",
    "\n",
    "config = IOService.read(fp1)\n",
    "config[\"logging\"][\"handlers\"][\"console\"][\"level\"] = \"UPDATED\"\n",
    "IOService.write(filepath=fp2, data=config)\n"
   ]
  }
 ],
 "metadata": {
  "kernelspec": {
   "display_name": "d8analysis",
   "language": "python",
   "name": "python3"
  },
  "language_info": {
   "codemirror_mode": {
    "name": "ipython",
    "version": 3
   },
   "file_extension": ".py",
   "mimetype": "text/x-python",
   "name": "python",
   "nbconvert_exporter": "python",
   "pygments_lexer": "ipython3",
   "version": "3.10.12"
  },
  "orig_nbformat": 4
 },
 "nbformat": 4,
 "nbformat_minor": 2
}
