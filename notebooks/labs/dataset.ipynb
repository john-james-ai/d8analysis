{
 "cells": [
  {
   "cell_type": "code",
   "execution_count": null,
   "metadata": {},
   "outputs": [],
   "source": [
    "d = {'a':'b','c':'d','d':2, 'f': 5}\n",
    "width = 23\n",
    "s = \"\"\n",
    "for k, v in d.items():\n",
    "    s += f\"\\t{k.rjust(width,' ')} | {v}\\n\"\n",
    "print(s)"
   ]
  }
 ],
 "metadata": {
  "language_info": {
   "name": "python"
  },
  "orig_nbformat": 4
 },
 "nbformat": 4,
 "nbformat_minor": 2
}
