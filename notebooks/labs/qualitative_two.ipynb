{
 "cells": [
  {
   "attachments": {},
   "cell_type": "markdown",
   "metadata": {},
   "source": [
    "# Qualitative Two Development Lab"
   ]
  },
  {
   "cell_type": "code",
   "execution_count": 1,
   "metadata": {},
   "outputs": [],
   "source": [
    "import pandas as pd\n",
    "from scipy import stats\n",
    "import matplotlib.pyplot as plt\n",
    "import seaborn as sns\n",
    "import numpy as np\n",
    "\n",
    "from explorer.bivariate import QualitativeTwo"
   ]
  },
  {
   "cell_type": "code",
   "execution_count": 2,
   "metadata": {},
   "outputs": [
    {
     "name": "stdout",
     "output_type": "stream",
     "text": [
      "<class 'pandas.core.frame.DataFrame'>\n",
      "RangeIndex: 164 entries, 0 to 163\n",
      "Data columns (total 8 columns):\n",
      " #   Column          Non-Null Count  Dtype   \n",
      "---  ------          --------------  -----   \n",
      " 0   Age             164 non-null    int64   \n",
      " 1   Gender          164 non-null    object  \n",
      " 2   Income          164 non-null    int64   \n",
      " 3   Education       164 non-null    category\n",
      " 4   Marital Status  164 non-null    object  \n",
      " 5   Children        164 non-null    int64   \n",
      " 6   Own             164 non-null    object  \n",
      " 7   Credit Rating   164 non-null    object  \n",
      "dtypes: category(1), int64(3), object(4)\n",
      "memory usage: 9.5+ KB\n"
     ]
    }
   ],
   "source": [
    "filepath = \"data/Credit Score Classification Dataset.csv\"\n",
    "df = pd.read_csv(filepath)\n",
    "a = \"Education\"\n",
    "b = \"Credit Rating\"\n",
    "c = \"Income\"\n",
    "q = QualitativeTwo(data=df)\n",
    "df[a] = df[a].astype('category')\n",
    "df.info()"
   ]
  },
  {
   "cell_type": "code",
   "execution_count": 3,
   "metadata": {},
   "outputs": [
    {
     "data": {
      "text/plain": [
       "False"
      ]
     },
     "execution_count": 3,
     "metadata": {},
     "output_type": "execute_result"
    }
   ],
   "source": [
    "df[c].dtype in (str,float)"
   ]
  },
  {
   "attachments": {},
   "cell_type": "markdown",
   "metadata": {},
   "source": [
    "## Describe"
   ]
  },
  {
   "cell_type": "code",
   "execution_count": 4,
   "metadata": {},
   "outputs": [
    {
     "data": {
      "text/html": [
       "<div>\n",
       "<style scoped>\n",
       "    .dataframe tbody tr th:only-of-type {\n",
       "        vertical-align: middle;\n",
       "    }\n",
       "\n",
       "    .dataframe tbody tr th {\n",
       "        vertical-align: top;\n",
       "    }\n",
       "\n",
       "    .dataframe thead tr th {\n",
       "        text-align: left;\n",
       "    }\n",
       "\n",
       "    .dataframe thead tr:last-of-type th {\n",
       "        text-align: right;\n",
       "    }\n",
       "</style>\n",
       "<table border=\"1\" class=\"dataframe\">\n",
       "  <thead>\n",
       "    <tr>\n",
       "      <th></th>\n",
       "      <th colspan=\"4\" halign=\"left\">Credit Rating</th>\n",
       "    </tr>\n",
       "    <tr>\n",
       "      <th></th>\n",
       "      <th>count</th>\n",
       "      <th>unique</th>\n",
       "      <th>top</th>\n",
       "      <th>freq</th>\n",
       "    </tr>\n",
       "    <tr>\n",
       "      <th>Education</th>\n",
       "      <th></th>\n",
       "      <th></th>\n",
       "      <th></th>\n",
       "      <th></th>\n",
       "    </tr>\n",
       "  </thead>\n",
       "  <tbody>\n",
       "    <tr>\n",
       "      <th>Associate's Degree</th>\n",
       "      <td>25</td>\n",
       "      <td>3</td>\n",
       "      <td>Average</td>\n",
       "      <td>15</td>\n",
       "    </tr>\n",
       "    <tr>\n",
       "      <th>Bachelor's Degree</th>\n",
       "      <td>42</td>\n",
       "      <td>2</td>\n",
       "      <td>High</td>\n",
       "      <td>27</td>\n",
       "    </tr>\n",
       "    <tr>\n",
       "      <th>Doctorate</th>\n",
       "      <td>31</td>\n",
       "      <td>2</td>\n",
       "      <td>High</td>\n",
       "      <td>30</td>\n",
       "    </tr>\n",
       "    <tr>\n",
       "      <th>High School Diploma</th>\n",
       "      <td>30</td>\n",
       "      <td>3</td>\n",
       "      <td>High</td>\n",
       "      <td>15</td>\n",
       "    </tr>\n",
       "    <tr>\n",
       "      <th>Master's Degree</th>\n",
       "      <td>36</td>\n",
       "      <td>1</td>\n",
       "      <td>High</td>\n",
       "      <td>36</td>\n",
       "    </tr>\n",
       "  </tbody>\n",
       "</table>\n",
       "</div>"
      ],
      "text/plain": [
       "                    Credit Rating                     \n",
       "                            count unique      top freq\n",
       "Education                                             \n",
       "Associate's Degree             25      3  Average   15\n",
       "Bachelor's Degree              42      2     High   27\n",
       "Doctorate                      31      2     High   30\n",
       "High School Diploma            30      3     High   15\n",
       "Master's Degree                36      1     High   36"
      ]
     },
     "execution_count": 4,
     "metadata": {},
     "output_type": "execute_result"
    }
   ],
   "source": [
    "q.describe(a=a,b=b)"
   ]
  },
  {
   "cell_type": "code",
   "execution_count": 5,
   "metadata": {},
   "outputs": [
    {
     "data": {
      "text/html": [
       "<div>\n",
       "<style scoped>\n",
       "    .dataframe tbody tr th:only-of-type {\n",
       "        vertical-align: middle;\n",
       "    }\n",
       "\n",
       "    .dataframe tbody tr th {\n",
       "        vertical-align: top;\n",
       "    }\n",
       "\n",
       "    .dataframe thead tr th {\n",
       "        text-align: left;\n",
       "    }\n",
       "\n",
       "    .dataframe thead tr:last-of-type th {\n",
       "        text-align: right;\n",
       "    }\n",
       "</style>\n",
       "<table border=\"1\" class=\"dataframe\">\n",
       "  <thead>\n",
       "    <tr>\n",
       "      <th></th>\n",
       "      <th colspan=\"8\" halign=\"left\">Income</th>\n",
       "    </tr>\n",
       "    <tr>\n",
       "      <th></th>\n",
       "      <th>count</th>\n",
       "      <th>mean</th>\n",
       "      <th>std</th>\n",
       "      <th>min</th>\n",
       "      <th>25%</th>\n",
       "      <th>50%</th>\n",
       "      <th>75%</th>\n",
       "      <th>max</th>\n",
       "    </tr>\n",
       "    <tr>\n",
       "      <th>Education</th>\n",
       "      <th></th>\n",
       "      <th></th>\n",
       "      <th></th>\n",
       "      <th></th>\n",
       "      <th></th>\n",
       "      <th></th>\n",
       "      <th></th>\n",
       "      <th></th>\n",
       "    </tr>\n",
       "  </thead>\n",
       "  <tbody>\n",
       "    <tr>\n",
       "      <th>Associate's Degree</th>\n",
       "      <td>25.00</td>\n",
       "      <td>60,800.00</td>\n",
       "      <td>32,617.74</td>\n",
       "      <td>30,000.00</td>\n",
       "      <td>45,000.00</td>\n",
       "      <td>47,500.00</td>\n",
       "      <td>57,500.00</td>\n",
       "      <td>127,500.00</td>\n",
       "    </tr>\n",
       "    <tr>\n",
       "      <th>Bachelor's Degree</th>\n",
       "      <td>42.00</td>\n",
       "      <td>79,404.76</td>\n",
       "      <td>28,363.98</td>\n",
       "      <td>50,000.00</td>\n",
       "      <td>60,625.00</td>\n",
       "      <td>67,500.00</td>\n",
       "      <td>94,375.00</td>\n",
       "      <td>150,000.00</td>\n",
       "    </tr>\n",
       "    <tr>\n",
       "      <th>Doctorate</th>\n",
       "      <td>31.00</td>\n",
       "      <td>87,838.71</td>\n",
       "      <td>13,309.39</td>\n",
       "      <td>65,000.00</td>\n",
       "      <td>78,750.00</td>\n",
       "      <td>85,000.00</td>\n",
       "      <td>92,500.00</td>\n",
       "      <td>120,000.00</td>\n",
       "    </tr>\n",
       "    <tr>\n",
       "      <th>High School Diploma</th>\n",
       "      <td>30.00</td>\n",
       "      <td>79,583.33</td>\n",
       "      <td>44,246.97</td>\n",
       "      <td>25,000.00</td>\n",
       "      <td>37,500.00</td>\n",
       "      <td>71,250.00</td>\n",
       "      <td>128,750.00</td>\n",
       "      <td>142,500.00</td>\n",
       "    </tr>\n",
       "    <tr>\n",
       "      <th>Master's Degree</th>\n",
       "      <td>36.00</td>\n",
       "      <td>104,777.78</td>\n",
       "      <td>24,017.69</td>\n",
       "      <td>75,000.00</td>\n",
       "      <td>87,500.00</td>\n",
       "      <td>97,500.00</td>\n",
       "      <td>112,500.00</td>\n",
       "      <td>162,500.00</td>\n",
       "    </tr>\n",
       "  </tbody>\n",
       "</table>\n",
       "</div>"
      ],
      "text/plain": [
       "                    Income                                                     \\\n",
       "                     count       mean       std       min       25%       50%   \n",
       "Education                                                                       \n",
       "Associate's Degree   25.00  60,800.00 32,617.74 30,000.00 45,000.00 47,500.00   \n",
       "Bachelor's Degree    42.00  79,404.76 28,363.98 50,000.00 60,625.00 67,500.00   \n",
       "Doctorate            31.00  87,838.71 13,309.39 65,000.00 78,750.00 85,000.00   \n",
       "High School Diploma  30.00  79,583.33 44,246.97 25,000.00 37,500.00 71,250.00   \n",
       "Master's Degree      36.00 104,777.78 24,017.69 75,000.00 87,500.00 97,500.00   \n",
       "\n",
       "                                           \n",
       "                           75%        max  \n",
       "Education                                  \n",
       "Associate's Degree   57,500.00 127,500.00  \n",
       "Bachelor's Degree    94,375.00 150,000.00  \n",
       "Doctorate            92,500.00 120,000.00  \n",
       "High School Diploma 128,750.00 142,500.00  \n",
       "Master's Degree     112,500.00 162,500.00  "
      ]
     },
     "execution_count": 5,
     "metadata": {},
     "output_type": "execute_result"
    }
   ],
   "source": [
    "q.describe(a=a,b=c)"
   ]
  },
  {
   "attachments": {},
   "cell_type": "markdown",
   "metadata": {},
   "source": [
    "## Frequency"
   ]
  },
  {
   "cell_type": "code",
   "execution_count": 6,
   "metadata": {},
   "outputs": [
    {
     "data": {
      "text/html": [
       "<div>\n",
       "<style scoped>\n",
       "    .dataframe tbody tr th:only-of-type {\n",
       "        vertical-align: middle;\n",
       "    }\n",
       "\n",
       "    .dataframe tbody tr th {\n",
       "        vertical-align: top;\n",
       "    }\n",
       "\n",
       "    .dataframe thead th {\n",
       "        text-align: right;\n",
       "    }\n",
       "</style>\n",
       "<table border=\"1\" class=\"dataframe\">\n",
       "  <thead>\n",
       "    <tr style=\"text-align: right;\">\n",
       "      <th>Credit Rating</th>\n",
       "      <th>Average</th>\n",
       "      <th>High</th>\n",
       "      <th>Low</th>\n",
       "    </tr>\n",
       "    <tr>\n",
       "      <th>Education</th>\n",
       "      <th></th>\n",
       "      <th></th>\n",
       "      <th></th>\n",
       "    </tr>\n",
       "  </thead>\n",
       "  <tbody>\n",
       "    <tr>\n",
       "      <th>Associate's Degree</th>\n",
       "      <td>15</td>\n",
       "      <td>5</td>\n",
       "      <td>5</td>\n",
       "    </tr>\n",
       "    <tr>\n",
       "      <th>Bachelor's Degree</th>\n",
       "      <td>15</td>\n",
       "      <td>27</td>\n",
       "      <td>0</td>\n",
       "    </tr>\n",
       "    <tr>\n",
       "      <th>Doctorate</th>\n",
       "      <td>1</td>\n",
       "      <td>30</td>\n",
       "      <td>0</td>\n",
       "    </tr>\n",
       "    <tr>\n",
       "      <th>High School Diploma</th>\n",
       "      <td>5</td>\n",
       "      <td>15</td>\n",
       "      <td>10</td>\n",
       "    </tr>\n",
       "    <tr>\n",
       "      <th>Master's Degree</th>\n",
       "      <td>0</td>\n",
       "      <td>36</td>\n",
       "      <td>0</td>\n",
       "    </tr>\n",
       "  </tbody>\n",
       "</table>\n",
       "</div>"
      ],
      "text/plain": [
       "Credit Rating        Average  High  Low\n",
       "Education                              \n",
       "Associate's Degree        15     5    5\n",
       "Bachelor's Degree         15    27    0\n",
       "Doctorate                  1    30    0\n",
       "High School Diploma        5    15   10\n",
       "Master's Degree            0    36    0"
      ]
     },
     "execution_count": 6,
     "metadata": {},
     "output_type": "execute_result"
    }
   ],
   "source": [
    "q.frequency(a=a,b=b)"
   ]
  },
  {
   "cell_type": "code",
   "execution_count": 7,
   "metadata": {},
   "outputs": [
    {
     "data": {
      "text/plain": [
       "8.72858003081052"
      ]
     },
     "execution_count": 7,
     "metadata": {},
     "output_type": "execute_result"
    }
   ],
   "source": [
    "g = df.groupby(a)[c].apply(np.array).values\n",
    "r = stats.f_oneway(*g)\n",
    "r.statistic"
   ]
  },
  {
   "attachments": {},
   "cell_type": "markdown",
   "metadata": {},
   "source": [
    "## Barplot"
   ]
  },
  {
   "cell_type": "code",
   "execution_count": 8,
   "metadata": {},
   "outputs": [
    {
     "data": {
      "text/plain": [
       "<Axes: xlabel='Education', ylabel='count'>"
      ]
     },
     "execution_count": 8,
     "metadata": {},
     "output_type": "execute_result"
    },
    {
     "data": {
      "image/png": "[encoded data removed]",
      "text/plain": [
       "<Figure size 640x480 with 1 Axes>"
      ]
     },
     "metadata": {},
     "output_type": "display_data"
    }
   ],
   "source": [
    "# vc = df[[a,c]].value_counts().reset_index(name=\"Count\")\n",
    "# vc\n",
    "sns.countplot(data=df, x=a,hue=b,  saturation=0.5, dodge=False)\n"
   ]
  },
  {
   "cell_type": "code",
   "execution_count": 9,
   "metadata": {},
   "outputs": [
    {
     "data": {
      "text/plain": [
       "CrosstabResult(elements=(array([\"Associate's Degree\", \"Bachelor's Degree\", 'Doctorate',\n",
       "       'High School Diploma', \"Master's Degree\"], dtype=object), array(['Average', 'High', 'Low'], dtype=object)), count=array([[15,  5,  5],\n",
       "       [15, 27,  0],\n",
       "       [ 1, 30,  0],\n",
       "       [ 5, 15, 10],\n",
       "       [ 0, 36,  0]]))"
      ]
     },
     "execution_count": 9,
     "metadata": {},
     "output_type": "execute_result"
    }
   ],
   "source": [
    "stats.contingency.crosstab(df[a].values, df[b].values)"
   ]
  },
  {
   "cell_type": "code",
   "execution_count": 10,
   "metadata": {},
   "outputs": [
    {
     "ename": "TypeError",
     "evalue": "myfunc() got an unexpected keyword argument 'c'",
     "output_type": "error",
     "traceback": [
      "\u001b[0;31m---------------------------------------------------------------------------\u001b[0m",
      "\u001b[0;31mTypeError\u001b[0m                                 Traceback (most recent call last)",
      "Cell \u001b[0;32mIn[10], line 5\u001b[0m\n\u001b[1;32m      2\u001b[0m     \u001b[39mprint\u001b[39m(a,b,f)\n\u001b[1;32m      4\u001b[0m args \u001b[39m=\u001b[39m {\u001b[39m'\u001b[39m\u001b[39ma\u001b[39m\u001b[39m'\u001b[39m:\u001b[39m'\u001b[39m\u001b[39ma\u001b[39m\u001b[39m'\u001b[39m, \u001b[39m\"\u001b[39m\u001b[39mb\u001b[39m\u001b[39m\"\u001b[39m: \u001b[39m'\u001b[39m\u001b[39mb\u001b[39m\u001b[39m'\u001b[39m, \u001b[39m'\u001b[39m\u001b[39mc\u001b[39m\u001b[39m'\u001b[39m: \u001b[39m'\u001b[39m\u001b[39mc\u001b[39m\u001b[39m'\u001b[39m}\n\u001b[0;32m----> 5\u001b[0m myfunc(\u001b[39m*\u001b[39;49m\u001b[39m*\u001b[39;49margs)\n",
      "\u001b[0;31mTypeError\u001b[0m: myfunc() got an unexpected keyword argument 'c'"
     ]
    }
   ],
   "source": [
    "def myfunc(a,b,f):\n",
    "    print(a,b,f)\n",
    "\n",
    "args = {'a':'a', \"b\": 'b', 'c': 'c'}\n",
    "myfunc(**args)"
   ]
  }
 ],
 "metadata": {
  "kernelspec": {
   "display_name": "explorer",
   "language": "python",
   "name": "python3"
  },
  "language_info": {
   "codemirror_mode": {
    "name": "ipython",
    "version": 3
   },
   "file_extension": ".py",
   "mimetype": "text/x-python",
   "name": "python",
   "nbconvert_exporter": "python",
   "pygments_lexer": "ipython3",
   "version": "3.10.11"
  },
  "orig_nbformat": 4
 },
 "nbformat": 4,
 "nbformat_minor": 2
}
