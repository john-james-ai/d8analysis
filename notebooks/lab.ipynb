{
 "cells": [
  {
   "attachments": {},
   "cell_type": "markdown",
   "metadata": {},
   "source": [
    "# Development Lab"
   ]
  },
  {
   "cell_type": "code",
   "execution_count": 1,
   "metadata": {},
   "outputs": [],
   "source": [
    "import pandas as pd"
   ]
  },
  {
   "attachments": {},
   "cell_type": "markdown",
   "metadata": {},
   "source": [
    "## Dataset"
   ]
  },
  {
   "cell_type": "code",
   "execution_count": 32,
   "metadata": {},
   "outputs": [
    {
     "name": "stdout",
     "output_type": "stream",
     "text": [
      "<class 'pandas.core.frame.DataFrame'>\n",
      "RangeIndex: 164 entries, 0 to 163\n",
      "Data columns (total 8 columns):\n",
      " #   Column    Non-Null Count  Dtype \n",
      "---  ------    --------------  ----- \n",
      " 0   age       164 non-null    int64 \n",
      " 1   gender    164 non-null    object\n",
      " 2   income    164 non-null    int64 \n",
      " 3   educ      164 non-null    object\n",
      " 4   married   164 non-null    object\n",
      " 5   children  164 non-null    int64 \n",
      " 6   own       164 non-null    object\n",
      " 7   score     164 non-null    object\n",
      "dtypes: int64(3), object(5)\n",
      "memory usage: 10.4+ KB\n"
     ]
    }
   ],
   "source": [
    "filepath = \"data/Credit Score Classification Dataset.csv\"\n",
    "df = pd.read_csv(filepath)"
   ]
  },
  {
   "attachments": {},
   "cell_type": "markdown",
   "metadata": {},
   "source": [
    "## CategoricalOne"
   ]
  },
  {
   "cell_type": "code",
   "execution_count": 58,
   "metadata": {},
   "outputs": [
    {
     "ename": "AttributeError",
     "evalue": "'builtin_function_or_method' object has no attribute 'sort_values'",
     "output_type": "error",
     "traceback": [
      "\u001b[0;31m---------------------------------------------------------------------------\u001b[0m",
      "\u001b[0;31mAttributeError\u001b[0m                            Traceback (most recent call last)",
      "Cell \u001b[0;32mIn[58], line 4\u001b[0m\n\u001b[1;32m      1\u001b[0m s \u001b[39m=\u001b[39m \u001b[39mlist\u001b[39m(df[\u001b[39m\"\u001b[39m\u001b[39meduc\u001b[39m\u001b[39m\"\u001b[39m]\u001b[39m.\u001b[39mvalues)\n\u001b[1;32m      2\u001b[0m \u001b[39m# s = pd.Series(s)\u001b[39;00m\n\u001b[0;32m----> 4\u001b[0m s\u001b[39m.\u001b[39;49mindex\u001b[39m.\u001b[39;49msort_values()\n\u001b[1;32m      5\u001b[0m s\u001b[39m.\u001b[39mnunique()\n\u001b[1;32m      6\u001b[0m d \u001b[39m=\u001b[39m s\u001b[39m.\u001b[39mvalue_counts()\u001b[39m.\u001b[39mto_dict()\n",
      "\u001b[0;31mAttributeError\u001b[0m: 'builtin_function_or_method' object has no attribute 'sort_values'"
     ]
    }
   ],
   "source": [
    "s = list(df[\"educ\"].values)\n",
    "# s = pd.Series(s)\n",
    "\n",
    "s.index.sort_values()\n",
    "s.nunique()\n",
    "d = s.value_counts().to_dict()\n",
    "d\n",
    "pd.DataFrame.from_dict(data=d,orient='index')\n",
    "\n",
    "c = s.value_counts().to_frame()\n",
    "c.values\n",
    "p = c/c.sum()*100\n",
    "cp = c.cumsum() / c.sum() * 100\n",
    "r = pd.concat([c,p,cp],axis=1)\n",
    "r.columns = [\"Count\", \"%\", \"Cum %\"]\n",
    "c\n",
    "p\n",
    "cp\n",
    "r\n",
    "\n"
   ]
  }
 ],
 "metadata": {
  "kernelspec": {
   "display_name": "explorer",
   "language": "python",
   "name": "python3"
  },
  "language_info": {
   "codemirror_mode": {
    "name": "ipython",
    "version": 3
   },
   "file_extension": ".py",
   "mimetype": "text/x-python",
   "name": "python",
   "nbconvert_exporter": "python",
   "pygments_lexer": "ipython3",
   "version": "3.10.11"
  },
  "orig_nbformat": 4
 },
 "nbformat": 4,
 "nbformat_minor": 2
}
